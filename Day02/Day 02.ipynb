{
 "cells": [
  {
   "cell_type": "markdown",
   "id": "0e478986",
   "metadata": {},
   "source": [
    "# Day 02"
   ]
  },
  {
   "cell_type": "code",
   "execution_count": 1,
   "id": "697fa15b",
   "metadata": {},
   "outputs": [],
   "source": [
    "with open(\"day02.txt\", \"r\") as f:\n",
    "    txt_list = [line.strip().split() for line in f]\n",
    "elvesPoints = {\n",
    "    \"A\" : 1, #Piedra\n",
    "    \"B\" : 2, #Papel\n",
    "    \"C\" : 3, #Tijera\n",
    "}\n",
    "myPoints = {\n",
    "    \"X\" : 1, #Piedra\n",
    "    \"Y\" : 2, #Papel\n",
    "    \"Z\" : 3, #Tijera\n",
    "}\n",
    "results = {\n",
    "    \"AY\": 6,\n",
    "    \"AZ\": 0,\n",
    "    \"BX\": 0,\n",
    "    \"BZ\": 6,\n",
    "    \"CX\": 6,\n",
    "    \"CY\": 0,\n",
    "}"
   ]
  },
  {
   "cell_type": "markdown",
   "id": "8ac3f55a",
   "metadata": {},
   "source": [
    "### Part 1"
   ]
  },
  {
   "cell_type": "code",
   "execution_count": 2,
   "id": "b67963fa",
   "metadata": {},
   "outputs": [
    {
     "name": "stdout",
     "output_type": "stream",
     "text": [
      "14264\n"
     ]
    }
   ],
   "source": [
    "counter = 0;\n",
    "for item in txt_list:\n",
    "    firstValue = elvesPoints[item[0]]\n",
    "    secondValue = myPoints[item[1]]\n",
    "    if firstValue == secondValue:\n",
    "        counter += secondValue + 3\n",
    "    else:\n",
    "        counter += secondValue + results[item[0]+item[1]]\n",
    "print(counter)"
   ]
  },
  {
   "cell_type": "markdown",
   "id": "02445566",
   "metadata": {},
   "source": [
    "### Part 2"
   ]
  },
  {
   "cell_type": "code",
   "execution_count": 3,
   "id": "7b01fbce",
   "metadata": {},
   "outputs": [
    {
     "name": "stdout",
     "output_type": "stream",
     "text": [
      "12382\n"
     ]
    }
   ],
   "source": [
    "counter = 0\n",
    "options = {'X':'A','Y':'B','Z':'C'}\n",
    "def getValue(item, value):\n",
    "    for option in options:\n",
    "        if item != options[option]:\n",
    "            if results[item + option] == value:\n",
    "                return myPoints[option] + value\n",
    "\n",
    "for item in txt_list:\n",
    "    firstValue = elvesPoints[item[0]]\n",
    "    secondValue = myPoints[item[1]]\n",
    "    if item[1] == 'X':\n",
    "        counter += getValue(item[0],0)\n",
    "    elif item[1] == 'Y':\n",
    "        counter += firstValue + 3\n",
    "    else:\n",
    "        counter += getValue(item[0],6)\n",
    "print(counter)"
   ]
  }
 ],
 "metadata": {
  "kernelspec": {
   "display_name": "Python 3 (ipykernel)",
   "language": "python",
   "name": "python3"
  },
  "language_info": {
   "codemirror_mode": {
    "name": "ipython",
    "version": 3
   },
   "file_extension": ".py",
   "mimetype": "text/x-python",
   "name": "python",
   "nbconvert_exporter": "python",
   "pygments_lexer": "ipython3",
   "version": "3.9.12"
  }
 },
 "nbformat": 4,
 "nbformat_minor": 5
}
