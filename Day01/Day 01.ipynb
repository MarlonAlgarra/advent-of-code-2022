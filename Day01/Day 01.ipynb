{
 "cells": [
  {
   "cell_type": "markdown",
   "id": "ca5478e3",
   "metadata": {},
   "source": [
    "# Day One"
   ]
  },
  {
   "cell_type": "code",
   "execution_count": 1,
   "id": "67e90084",
   "metadata": {},
   "outputs": [],
   "source": [
    "with open(\"day01.txt\", \"r\") as f:\n",
    "    txt_list = [line.strip() for line in f]\n",
    "string = ''\n",
    "for item in txt_list:\n",
    "    if item != '':\n",
    "        string+=item+','\n",
    "    else:\n",
    "        string+=' '+','\n",
    "cleanedData = string.split(', ,')"
   ]
  },
  {
   "cell_type": "markdown",
   "id": "a4eb7225",
   "metadata": {},
   "source": [
    "### Part 1"
   ]
  },
  {
   "cell_type": "code",
   "execution_count": 2,
   "id": "e9490c7e",
   "metadata": {},
   "outputs": [
    {
     "name": "stdout",
     "output_type": "stream",
     "text": [
      "72718\n"
     ]
    }
   ],
   "source": [
    "result = []\n",
    "for item in cleanedData:\n",
    "    result.append(sum([int(i) for i in item.split(',') if i!='']))\n",
    "print(max(result))"
   ]
  },
  {
   "cell_type": "markdown",
   "id": "9e66cb2b",
   "metadata": {},
   "source": [
    "### Part 2"
   ]
  },
  {
   "cell_type": "code",
   "execution_count": 3,
   "id": "9a49486c",
   "metadata": {},
   "outputs": [
    {
     "name": "stdout",
     "output_type": "stream",
     "text": [
      "213089\n"
     ]
    }
   ],
   "source": [
    "result.sort(reverse=True)\n",
    "print(sum(result[0:3]))"
   ]
  }
 ],
 "metadata": {
  "kernelspec": {
   "display_name": "Python 3 (ipykernel)",
   "language": "python",
   "name": "python3"
  },
  "language_info": {
   "codemirror_mode": {
    "name": "ipython",
    "version": 3
   },
   "file_extension": ".py",
   "mimetype": "text/x-python",
   "name": "python",
   "nbconvert_exporter": "python",
   "pygments_lexer": "ipython3",
   "version": "3.9.12"
  }
 },
 "nbformat": 4,
 "nbformat_minor": 5
}
