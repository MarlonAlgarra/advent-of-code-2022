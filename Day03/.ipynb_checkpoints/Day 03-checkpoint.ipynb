{
 "cells": [
  {
   "cell_type": "markdown",
   "id": "bd3ec276",
   "metadata": {},
   "source": [
    "# Day 03"
   ]
  },
  {
   "cell_type": "code",
   "execution_count": 1,
   "id": "660b7130",
   "metadata": {},
   "outputs": [],
   "source": [
    "with open(\"day03.txt\", \"r\") as f:\n",
    "    txt_list = [line.strip() for line in f]\n",
    "\n",
    "values = {\n",
    "    'a':1, 'A':27,\n",
    "    'b':2, 'B':28,\n",
    "    'c':3, 'C':29,\n",
    "    'd':4, 'D':30,\n",
    "    'e':5, 'E':31,\n",
    "    'f':6, 'F':32,\n",
    "    'g':7, 'G':33,\n",
    "    'h':8, 'H':34,\n",
    "    'i':9, 'I':35,\n",
    "    'j':10, 'J':36,\n",
    "    'k':11, 'K':37,\n",
    "    'l':12, 'L':38,\n",
    "    'm':13, 'M':39,\n",
    "    'n':14, 'N':40,\n",
    "    'o':15, 'O':41,\n",
    "    'p':16, 'P':42,\n",
    "    'q':17, 'Q':43,\n",
    "    'r':18, 'R':44,\n",
    "    's':19, 'S':45,\n",
    "    't':20, 'T':46,\n",
    "    'u':21, 'U':47,\n",
    "    'v':22, 'V':48,\n",
    "    'w':23, 'W':49,\n",
    "    'x':24, 'X':50,\n",
    "    'y':25, 'Y':51,\n",
    "    'z':26, 'Z':52,\n",
    "}"
   ]
  },
  {
   "cell_type": "markdown",
   "id": "b1b8aa5c",
   "metadata": {},
   "source": [
    "### Part 1"
   ]
  },
  {
   "cell_type": "code",
   "execution_count": 2,
   "id": "5ad6988f",
   "metadata": {
    "scrolled": true
   },
   "outputs": [
    {
     "name": "stdout",
     "output_type": "stream",
     "text": [
      "8240\n"
     ]
    }
   ],
   "source": [
    "results = []\n",
    "for item in txt_list:\n",
    "    firstString = item[:len(item)//2]\n",
    "    secondString = item[len(item)//2:]\n",
    "    results.append(values[''.join(set(firstString).intersection(secondString))])\n",
    "print(sum(results))"
   ]
  },
  {
   "cell_type": "markdown",
   "id": "57655fe1",
   "metadata": {},
   "source": [
    "### Part 2"
   ]
  },
  {
   "cell_type": "code",
   "execution_count": 3,
   "id": "d7f0a8b5",
   "metadata": {
    "scrolled": true
   },
   "outputs": [
    {
     "name": "stdout",
     "output_type": "stream",
     "text": [
      "2587\n"
     ]
    }
   ],
   "source": [
    "results = []\n",
    "for i in range(0,len(txt_list),3):\n",
    "    tempList = txt_list[i:i+3]\n",
    "    tempValue = list(set(tempList[0]) & set(tempList[1]) & set(tempList[2]))\n",
    "    results.append(values[tempValue[0]])\n",
    "print(sum(results))"
   ]
  }
 ],
 "metadata": {
  "kernelspec": {
   "display_name": "Python 3 (ipykernel)",
   "language": "python",
   "name": "python3"
  },
  "language_info": {
   "codemirror_mode": {
    "name": "ipython",
    "version": 3
   },
   "file_extension": ".py",
   "mimetype": "text/x-python",
   "name": "python",
   "nbconvert_exporter": "python",
   "pygments_lexer": "ipython3",
   "version": "3.9.12"
  }
 },
 "nbformat": 4,
 "nbformat_minor": 5
}
